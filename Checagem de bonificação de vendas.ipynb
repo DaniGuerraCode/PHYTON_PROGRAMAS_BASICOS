{
 "cells": [
  {
   "cell_type": "markdown",
   "id": "a53882c1",
   "metadata": {},
   "source": [
    "CHECAGEM DE BONIFICAÇÃO DE FUNC. BASEADA EM VENDAS"
   ]
  },
  {
   "cell_type": "code",
   "execution_count": 2,
   "id": "99c8129a",
   "metadata": {},
   "outputs": [
    {
     "name": "stdout",
     "output_type": "stream",
     "text": [
      "Bonus do funcionário foi de 750.0\n"
     ]
    }
   ],
   "source": [
    "#META Se o funcionário vendeu mais do que a meta de vendas e a loja bateu a meta de vendas da loja, o funcionário ganha 3% do que ele vendeu em forma de bônus.\n",
    "#Caso o funcionário tenha batido a meta de vendas individual dele, mas a loja não tenha batido a meta de vendas da loja como um todo, o funcionário não ganha bônus.\n",
    "\n",
    "#VARIÁVEIS\n",
    "#TESTE COM FUNC QUE BATEU A META\n",
    "\n",
    "meta_funcionario = 10000\n",
    "meta_loja = 250000\n",
    "vendas_funcionario = 25000\n",
    "vendas_loja = 350000\n",
    "\n",
    "if vendas_funcionario > meta_funcionario and vendas_loja > meta_loja:\n",
    "    bonus = 0.03 * vendas_funcionario\n",
    "    print('Bonus do funcionário foi de {}'.format(bonus))\n",
    "else:\n",
    "    print('Funcionário não ganhou bônus')\n"
   ]
  },
  {
   "cell_type": "code",
   "execution_count": 3,
   "id": "0f4590cc",
   "metadata": {},
   "outputs": [
    {
     "name": "stdout",
     "output_type": "stream",
     "text": [
      "Funcionário não ganhou bônus\n"
     ]
    }
   ],
   "source": [
    "#META Se o funcionário vendeu mais do que a meta de vendas e a loja bateu a meta de vendas da loja, o funcionário ganha 3% do que ele vendeu em forma de bônus.\n",
    "#Caso o funcionário tenha batido a meta de vendas individual dele, mas a loja não tenha batido a meta de vendas da loja como um todo, o funcionário não ganha bônus.\n",
    "\n",
    "#VARIÁVEIS\n",
    "#TESTE COM FUNC QUE NÃO BATEU A META\n",
    "\n",
    "meta_funcionario = 10000\n",
    "meta_loja = 250000\n",
    "vendas_funcionario = 25000\n",
    "vendas_loja = 250000\n",
    "\n",
    "if vendas_funcionario > meta_funcionario and vendas_loja > meta_loja:\n",
    "    bonus = 0.03 * vendas_funcionario\n",
    "    print('Bonus do funcionário foi de {}'.format(bonus))\n",
    "else:\n",
    "    print('Funcionário não ganhou bônus')\n"
   ]
  },
  {
   "cell_type": "code",
   "execution_count": null,
   "id": "c8de8df1",
   "metadata": {},
   "outputs": [],
   "source": []
  }
 ],
 "metadata": {
  "kernelspec": {
   "display_name": "Python 3 (ipykernel)",
   "language": "python",
   "name": "python3"
  },
  "language_info": {
   "codemirror_mode": {
    "name": "ipython",
    "version": 3
   },
   "file_extension": ".py",
   "mimetype": "text/x-python",
   "name": "python",
   "nbconvert_exporter": "python",
   "pygments_lexer": "ipython3",
   "version": "3.9.7"
  }
 },
 "nbformat": 4,
 "nbformat_minor": 5
}
