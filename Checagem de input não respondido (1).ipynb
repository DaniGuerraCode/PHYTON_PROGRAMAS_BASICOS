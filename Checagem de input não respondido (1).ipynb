{
 "cells": [
  {
   "cell_type": "markdown",
   "id": "f53e2a5f",
   "metadata": {},
   "source": [
    "CHECANDO SE TODAS AS PERGUNTAS FORAM RESPONDIDAS CORRETAMENTE:"
   ]
  },
  {
   "cell_type": "code",
   "execution_count": null,
   "id": "2eb72d20",
   "metadata": {},
   "outputs": [],
   "source": [
    "#criar perguntas com input\n",
    "\n",
    "faturamento = input('Qual foi o faturamento da loja nesse mês?')\n",
    "custo = input('Qual foi o custo da loja nesse mês?')\n",
    "\n",
    "#criando um if que checa o preenchimento da pergunta fat e custo e após criamos uma variável de lucro:\n",
    "#caso contrário, ele pedirá o preenchimento correto.\n",
    "\n",
    "if faturamento and custo:\n",
    "    lucro = int(faturamento) - int(custo)\n",
    "    print(\"O lucro da loja foi de {} reais\".format(lucro))\n",
    "else:\n",
    "    print('Preencha o faturamento e o custo corretamente')"
   ]
  }
 ],
 "metadata": {
  "kernelspec": {
   "display_name": "Python 3 (ipykernel)",
   "language": "python",
   "name": "python3"
  },
  "language_info": {
   "codemirror_mode": {
    "name": "ipython",
    "version": 3
   },
   "file_extension": ".py",
   "mimetype": "text/x-python",
   "name": "python",
   "nbconvert_exporter": "python",
   "pygments_lexer": "ipython3",
   "version": "3.9.7"
  }
 },
 "nbformat": 4,
 "nbformat_minor": 5
}
