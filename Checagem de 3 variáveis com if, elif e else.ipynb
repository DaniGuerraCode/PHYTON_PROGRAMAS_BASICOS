{
 "cells": [
  {
   "cell_type": "markdown",
   "id": "0e04b0f6",
   "metadata": {},
   "source": [
    "CHECAGEM DE 3 VARIÁVEIS PARA GANHAR BONUS"
   ]
  },
  {
   "cell_type": "code",
   "execution_count": null,
   "id": "fe193807",
   "metadata": {},
   "outputs": [],
   "source": [
    "#for maior ou igual a 2000, então o bônus é de 15% \n",
    "#for menor do que 2000 e maior ou igual a 1000, então o bônus é de 10%\n",
    "#for menos do que 1000 então o bônus do funcionário é de 0.\n",
    "\n",
    "vendas_funcionario1 = 1000\n",
    "vendas_funcionario2 = 770\n",
    "vendas_funcionario3 = 2700\n",
    "\n",
    "if vendas_funcionario1 >= 2000:\n",
    "    bonus = vendas_funcionario1 * 0.15\n",
    "elif vendas_funcionario1 >= 1000:\n",
    "    bonus = vendas_funcionario1 * 0.10\n",
    "else:\n",
    "    bonus = 0\n",
    "print(\"O funcionário 1 ganhou {} de bonus\".format(bonus))\n",
    "\n",
    "if vendas_funcionario2 >= 2000:\n",
    "    bonus = vendas_funcionario2 * 0.15\n",
    "elif vendas_funcionario2 >= 1000:\n",
    "    bonus = vendas_funcionario2 * 0.10\n",
    "else:\n",
    "    bonus = 0\n",
    "print(\"O funcionário 2 ganhou {} de bonus\".format(bonus))\n",
    "\n",
    "if vendas_funcionario3 >= 2000:\n",
    "    bonus = vendas_funcionario3 * 0.15\n",
    "elif vendas_funcionario3 >= 1000:\n",
    "    bonus = vendas_funcionario3 * 0.10\n",
    "else:\n",
    "    bonus = 0\n",
    "print(\"O funcionário 3 ganhou {} de bonus\".format(bonus))"
   ]
  }
 ],
 "metadata": {
  "kernelspec": {
   "display_name": "Python 3 (ipykernel)",
   "language": "python",
   "name": "python3"
  },
  "language_info": {
   "codemirror_mode": {
    "name": "ipython",
    "version": 3
   },
   "file_extension": ".py",
   "mimetype": "text/x-python",
   "name": "python",
   "nbconvert_exporter": "python",
   "pygments_lexer": "ipython3",
   "version": "3.9.7"
  }
 },
 "nbformat": 4,
 "nbformat_minor": 5
}
